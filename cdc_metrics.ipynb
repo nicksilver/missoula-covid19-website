{
 "metadata": {
  "language_info": {
   "codemirror_mode": {
    "name": "ipython",
    "version": 3
   },
   "file_extension": ".py",
   "mimetype": "text/x-python",
   "name": "python",
   "nbconvert_exporter": "python",
   "pygments_lexer": "ipython3",
   "version": "3.6.9-final"
  },
  "orig_nbformat": 2,
  "kernelspec": {
   "name": "python36964bitvenvvenvc934d9d6936e4ff79b5bd18dd06baac4",
   "display_name": "Python 3.6.9 64-bit ('venv': venv)"
  }
 },
 "nbformat": 4,
 "nbformat_minor": 2,
 "cells": [
  {
   "cell_type": "code",
   "execution_count": 40,
   "metadata": {},
   "outputs": [],
   "source": [
    "import pandas as pd\n",
    "import numpy as np\n",
    "from libs.gsheet import *\n",
    "import seaborn as sns"
   ]
  },
  {
   "cell_type": "code",
   "execution_count": 6,
   "metadata": {},
   "outputs": [],
   "source": [
    "# Google Sheets credentials\n",
    "SPREADSHEET_ID = \"1ZHnIEjpFZ9U9Iu5VJfdTVKU2NiVBMtrvjDekRKsXmLs\"\n",
    "SCOPE = ['https://www.googleapis.com/auth/spreadsheets',]\n",
    "GOOGLE_CREDS = \"google-credentials.json\""
   ]
  },
  {
   "cell_type": "code",
   "execution_count": 82,
   "metadata": {},
   "outputs": [],
   "source": [
    "gs_df = gsheet2df(SPREADSHEET_ID, GOOGLE_CREDS, SCOPE, debug=True)\n",
    "zoo_pop = 120000"
   ]
  },
  {
   "cell_type": "code",
   "execution_count": 83,
   "metadata": {},
   "outputs": [],
   "source": [
    "# Number of new cases per 100k within last 14 days\n",
    "last14 = gs_df.iloc[-14:]\n",
    "first = int(last14['Missoula'].iloc[0])\n",
    "last = int(last14['Missoula'].iloc[-1])\n",
    "diff = last - first\n",
    "diff_norm = 100000*(diff/zoo_pop)"
   ]
  },
  {
   "cell_type": "code",
   "execution_count": 84,
   "metadata": {},
   "outputs": [],
   "source": [
    "# Percent change in new cases per 100,000 during last 7 days compared to previous 7 days\n",
    "last7 = last14.iloc[-7:]\n",
    "prev7 = last14.iloc[:7]\n",
    "last_diff = 100000*((int(last7['Missoula'].iloc[-1]) - int(last7['Missoula'].iloc[0]))/zoo_pop)\n",
    "prev_diff = 100000*((int(prev7['Missoula'].iloc[-1]) - int(prev7['Missoula'].iloc[0]))/zoo_pop)\n",
    "perc_diff = 100*((last_diff - prev_diff)/prev_diff)"
   ]
  },
  {
   "cell_type": "code",
   "execution_count": 85,
   "metadata": {},
   "outputs": [],
   "source": [
    "# Plot\n",
    "cdc_df = pd.DataFrame({\n",
    "    '14-day New Cases': [diff_norm],\n",
    "    '% Change': [perc_diff]\n",
    "})"
   ]
  },
  {
   "source": [
    "def add_color_style(x):\n",
    "    df = x.copy()\n",
    "    if df['14-day New Cases'] > 200:\n",
    "        df['14-day New Cases'] = 'background-color: IndianRed'\n",
    "    elif (df['14-day New Cases'] <= 200) & (df['14-day New Cases'] > 50):\n",
    "        df['14-day New Cases'] = 'background-color: orange'\n",
    "    elif (df['14-day New Cases'] <= 50) & (df['14-day New Cases'] > 20):\n",
    "        df['14-day New Cases'] = 'background-color: yellow'\n",
    "    elif (df['14-day New Cases'] <= 20) & (df['14-day New Cases'] > 5):\n",
    "        df['14-day New Cases'] = 'background-color: GreenYellow'\n",
    "    elif (df['14-day New Cases'] <= 5):\n",
    "        df['14-day New Cases'] = 'background-color: DarkGreen'\n",
    "    \n",
    "    if df['% Change'] > 10:\n",
    "        df['% Change'] = 'background-color: red'\n",
    "    elif (df['% Change'] <= 10) & (df['% Change'] > 0):\n",
    "        df['% Change'] = 'background-color: orange'\n",
    "    elif (df['% Change'] <= 0) & (df['% Change'] > -5):\n",
    "        df['% Change'] = 'background-color: yellow'   \n",
    "    elif (df['% Change'] <= -5) & (df['% Change'] > -10):\n",
    "        df['% Change'] = 'background-color: GreenYellow'\n",
    "    elif (df['% Change'] <= -10):\n",
    "        df['% Change'] = 'background-color: DarkGreen'    \n",
    "    return df"
   ],
   "cell_type": "code",
   "metadata": {},
   "execution_count": 86,
   "outputs": []
  },
  {
   "cell_type": "code",
   "execution_count": 87,
   "metadata": {},
   "outputs": [
    {
     "output_type": "execute_result",
     "data": {
      "text/plain": [
       "<pandas.io.formats.style.Styler at 0x7fcd6b23ffd0>"
      ],
      "text/html": "<style  type=\"text/css\" >\n    #T_06099d96_1097_11eb_8854_7c67a256c14crow0_col0 {\n            background-color:  red;\n        }    #T_06099d96_1097_11eb_8854_7c67a256c14crow0_col1 {\n            background-color:  DarkGreen;\n        }</style><table id=\"T_06099d96_1097_11eb_8854_7c67a256c14c\" ><thead>    <tr>        <th class=\"blank level0\" ></th>        <th class=\"col_heading level0 col0\" >14-day New Cases</th>        <th class=\"col_heading level0 col1\" >% Change</th>    </tr></thead><tbody>\n                <tr>\n                        <th id=\"T_06099d96_1097_11eb_8854_7c67a256c14clevel0_row0\" class=\"row_heading level0 row0\" >0</th>\n                        <td id=\"T_06099d96_1097_11eb_8854_7c67a256c14crow0_col0\" class=\"data row0 col0\" >554.166667</td>\n                        <td id=\"T_06099d96_1097_11eb_8854_7c67a256c14crow0_col1\" class=\"data row0 col1\" >-47.826087</td>\n            </tr>\n    </tbody></table>"
     },
     "metadata": {},
     "execution_count": 87
    }
   ],
   "source": [
    "cdc_df.style.apply(add_color_style, axis=1)"
   ]
  },
  {
   "cell_type": "code",
   "execution_count": null,
   "metadata": {},
   "outputs": [],
   "source": []
  }
 ]
}